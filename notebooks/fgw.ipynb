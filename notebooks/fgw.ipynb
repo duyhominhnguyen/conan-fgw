{
 "cells": [
  {
   "cell_type": "markdown",
   "metadata": {},
   "source": [
    "# Fused-Gromov Wasserstein Barycenter example"
   ]
  },
  {
   "cell_type": "markdown",
   "metadata": {},
   "source": [
    "This notebook presents an usage example of FGW Barycenter solver. Let $G = (Y, C, p_s)$, in this example, we consider computing barycenter of $K=10$ graphs. Hence, the loaded variables below have $Y_k \\in \\mathbb{R}^{K \\times N \\times d}, C_k \\in \\mathbb{R}^{K \\times N \\times N}, p_s \\in \\mathbb{R}^{N}$, where $N$ is the number of nodes and $d$ is feature dimension. "
   ]
  },
  {
   "cell_type": "code",
   "execution_count": 2,
   "metadata": {},
   "outputs": [
    {
     "name": "stdout",
     "output_type": "stream",
     "text": [
      "Feature shapes: torch.Size([10, 22, 3])\n",
      "Structure shapes: torch.Size([10, 22, 22])\n",
      "Source marginal shapes: torch.Size([10, 22])\n",
      "Target marginal shapes: torch.Size([22])\n"
     ]
    },
    {
     "name": "stderr",
     "output_type": "stream",
     "text": [
      "/tmp/ipykernel_496863/3641633013.py:11: FutureWarning: You are using `torch.load` with `weights_only=False` (the current default value), which uses the default pickle module implicitly. It is possible to construct malicious pickle data which will execute arbitrary code during unpickling (See https://github.com/pytorch/pytorch/blob/main/SECURITY.md#untrusted-models for more details). In a future release, the default value for `weights_only` will be flipped to `True`. This limits the functions that could be executed during unpickling. Arbitrary objects will no longer be allowed to be loaded via this mode unless they are explicitly allowlisted by the user via `torch.serialization.add_safe_globals`. We recommend you start setting `weights_only=True` for any use case where you don't have full control of the loaded file. Please open an issue on GitHub for any issues related to this experimental feature.\n",
      "  debug_dict = torch.load((path / 'data' / 'cfm_log.pt').as_posix())\n"
     ]
    }
   ],
   "source": [
    "import torch\n",
    "import sys\n",
    "sys.path.append('..')\n",
    "from conan_fgw.src.model.fgw.barycenter import fgw_barycenters, fgw_barycenters_BAPG\n",
    "import time\n",
    "import ot\n",
    "from pathlib import Path\n",
    "\n",
    "# file path\n",
    "path = Path('.')\n",
    "debug_dict = torch.load((path / 'data' / 'cfm_log.pt').as_posix())\n",
    "N = debug_dict[\"N\"]\n",
    "Ys = debug_dict[\"Ys\"]\n",
    "Cs = debug_dict[\"Cs\"]\n",
    "ps = debug_dict[\"ps\"]\n",
    "lambdas = debug_dict[\"lambdas\"]\n",
    "Ys = torch.stack(Ys)\n",
    "Cs = torch.stack(Cs)\n",
    "ps = torch.stack(ps)\n",
    "p = torch.ones(N) / N\n",
    "p = p.to(Ys.device)\n",
    "\n",
    "print(f'Feature shapes: {Ys.shape}')\n",
    "print(f'Structure shapes: {Cs.shape}')\n",
    "print(f'Source marginal shapes: {ps.shape}')\n",
    "print(f'Target marginal shapes: {p.shape}')"
   ]
  },
  {
   "cell_type": "markdown",
   "metadata": {},
   "source": [
    "Now, we compare the performance and computational time vs. Conjugated gradient method"
   ]
  },
  {
   "cell_type": "code",
   "execution_count": 5,
   "metadata": {},
   "outputs": [
    {
     "name": "stdout",
     "output_type": "stream",
     "text": [
      "FGW CG Time elapsed:  0.05827474594116211\n",
      "FGW Sinkhorn Time elapsed:  5.201070785522461\n",
      "FGW Sinkhorn Feature matrix difference:  0.27334436774253845\n",
      "FGW Sinkhorn Structure matrix difference:  0.024793388321995735\n"
     ]
    }
   ],
   "source": [
    "def mse(A, B):\n",
    "    return torch.mean((A - B) ** 2).item()\n",
    "\n",
    "start = time.time()\n",
    "F_bary_ref, C_bary_ref, log = ot.gromov.fgw_barycenters(N=N, Ys=Ys, Cs=Cs, ps=ps, lambdas=lambdas, p=p, warmstartT=True, symmetric=True,\n",
    "                                alpha=0.5, fixed_structure=False, fixed_features=False, loss_fun='kl_loss', max_iter=50, tol=1e-5,\n",
    "                                verbose=False, log=True, init_C=None, init_X=None, random_state=None)\n",
    "print(\"FGW CG Time elapsed: \", time.time() - start)\n",
    "\n",
    "start = time.time()\n",
    "F_bary1, C_bary1, log = fgw_barycenters(N=N, Ys=Ys, Cs=Cs, ps=ps, lambdas=lambdas, p=p, warmstartT=True, symmetric=False, method='sinkhorn_log',\n",
    "                                alpha=0.5, solver='PGD', fixed_structure=False, fixed_features=False, epsilon=0.05, loss_fun='kl_loss', max_iter=50, tol=1e-5,\n",
    "                                numItermax=50, stopThr=5e-2, verbose=False, log=True, init_C=None, init_X=None, random_state=None)\n",
    "print(\"FGW Sinkhorn Time elapsed: \", time.time() - start)\n",
    "print(\"FGW Sinkhorn Feature matrix difference: \", mse(F_bary1, F_bary_ref))\n",
    "print(\"FGW Sinkhorn Structure matrix difference: \", mse(C_bary1, C_bary_ref))"
   ]
  },
  {
   "cell_type": "markdown",
   "metadata": {},
   "source": [
    "The output $G_o = (Y_o, C_o, p)$ has the same tensor dimension as the components."
   ]
  },
  {
   "cell_type": "code",
   "execution_count": 6,
   "metadata": {},
   "outputs": [
    {
     "name": "stdout",
     "output_type": "stream",
     "text": [
      "Feature shapes: torch.Size([22, 3])\n",
      "Structure shapes: torch.Size([22, 22])\n"
     ]
    }
   ],
   "source": [
    "print(f'Feature shapes: {F_bary1.shape}')\n",
    "print(f'Structure shapes: {C_bary1.shape}')"
   ]
  },
  {
   "cell_type": "code",
   "execution_count": 11,
   "metadata": {},
   "outputs": [
    {
     "data": {
      "image/png": "[encoded data removed]",
      "text/plain": [
       "<Figure size 640x480 with 1 Axes>"
      ]
     },
     "metadata": {},
     "output_type": "display_data"
    }
   ],
   "source": [
    "# plot err_feature and err_structure\n",
    "import matplotlib.pyplot as plt\n",
    "plt.plot(log['err_feature'], label='err_feature')\n",
    "plt.show()"
   ]
  },
  {
   "cell_type": "code",
   "execution_count": 12,
   "metadata": {},
   "outputs": [
    {
     "data": {
      "image/png": "[encoded data removed]",
      "text/plain": [
       "<Figure size 640x480 with 1 Axes>"
      ]
     },
     "metadata": {},
     "output_type": "display_data"
    }
   ],
   "source": [
    "plt.plot(log['err_structure'], label='err_structure')\n",
    "plt.show()"
   ]
  },
  {
   "cell_type": "code",
   "execution_count": null,
   "metadata": {},
   "outputs": [],
   "source": []
  }
 ],
 "metadata": {
  "kernelspec": {
   "display_name": "fgw",
   "language": "python",
   "name": "python3"
  },
  "language_info": {
   "codemirror_mode": {
    "name": "ipython",
    "version": 3
   },
   "file_extension": ".py",
   "mimetype": "text/x-python",
   "name": "python",
   "nbconvert_exporter": "python",
   "pygments_lexer": "ipython3",
   "version": "3.9.19"
  }
 },
 "nbformat": 4,
 "nbformat_minor": 2
}
