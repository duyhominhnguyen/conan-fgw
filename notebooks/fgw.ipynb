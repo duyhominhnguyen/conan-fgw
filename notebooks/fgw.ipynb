{
 "cells": [
  {
   "cell_type": "markdown",
   "metadata": {},
   "source": [
    "# Fused-Gromov Wasserstein Barycenter example"
   ]
  },
  {
   "cell_type": "code",
   "execution_count": null,
   "metadata": {},
   "outputs": [],
   "source": [
    "import torch\n",
    "from conan_fgw.src.model.fgw.barycenter import fgw_barycenters, fgw_barycenters_BAPG\n",
    "import time\n",
    "import ot\n",
    "from pathlib import Path\n",
    "\n",
    "# file path\n",
    "path = Path(__file__)\n",
    "debug_dict = torch.load((path / 'data' / 'cfm_log.pt').as_posix())\n",
    "N = debug_dict[\"N\"]\n",
    "Ys = debug_dict[\"Ys\"]\n",
    "Cs = debug_dict[\"Cs\"]\n",
    "ps = debug_dict[\"ps\"]\n",
    "lambdas = debug_dict[\"lambdas\"]\n",
    "Ys = torch.stack(Ys)\n",
    "Cs = torch.stack(Cs)\n",
    "ps = torch.stack(ps)\n",
    "p = torch.ones(N) / N\n",
    "p = p.to(Ys.device)"
   ]
  },
  {
   "cell_type": "markdown",
   "metadata": {},
   "source": [
    "Now, we compare the performance and computational time vs. Conjugated gradient method"
   ]
  },
  {
   "cell_type": "code",
   "execution_count": null,
   "metadata": {},
   "outputs": [],
   "source": [
    "def mse(A, B):\n",
    "    return torch.mean((A - B) ** 2).item()\n",
    "\n",
    "start = time.time()\n",
    "F_bary_ref, C_bary_ref, log = ot.gromov.fgw_barycenters(N=N, Ys=Ys, Cs=Cs, ps=ps, lambdas=lambdas, p=p, warmstartT=True, symmetric=True,\n",
    "                                alpha=0.5, fixed_structure=False, fixed_features=False, loss_fun='kl_loss', max_iter=50, tol=1e-5,\n",
    "                                verbose=False, log=True, init_C=None, init_X=None, random_state=None)\n",
    "print(\"FGW CG Time elapsed: \", time.time() - start)\n",
    "\n",
    "start = time.time()\n",
    "F_bary1, C_bary1, log = fgw_barycenters(N=N, Ys=Ys, Cs=Cs, ps=ps, lambdas=lambdas, p=p, warmstartT=True, symmetric=False, method='sinkhorn_log',\n",
    "                                alpha=0.5, solver='PGD', fixed_structure=False, fixed_features=False, epsilon=0.05, loss_fun='kl_loss', max_iter=50, tol=1e-5,\n",
    "                                numItermax=50, stopThr=5e-3, verbose=False, log=True, init_C=None, init_X=None, random_state=None)\n",
    "print(\"FGW Sinkhorn Time elapsed: \", time.time() - start)\n",
    "print(\"FGW Sinkhorn Feature matrix difference: \", mse(F_bary1, F_bary_ref))\n",
    "print(\"FGW Sinkhorn Structure matrix difference: \", mse(C_bary1, C_bary_ref))\n",
    "\n",
    "start = time.time()\n",
    "F_bary2, C_bary2, log = fgw_barycenters_BAPG(N=N, Ys=Ys, Cs=Cs, ps=ps, lambdas=lambdas, p=p, warmstartT=True,\n",
    "                                        alpha=0.5, fixed_structure=False, fixed_features=False, epsilon=0.025, loss_fun='kl_loss', max_iter=50, toly=1e-3, tolc=1e-6, rho=22,\n",
    "                                        verbose=False, log=True, init_C=None, init_X=None, random_state=None)\n",
    "print(\"FGW BAPG Time elapsed: \", time.time() - start)\n",
    "print(\"FGW BAPG Feature matrix difference: \", mse(F_bary2, F_bary_ref))\n",
    "print(\"FGW BAPG Structure matrix difference: \", mse(C_bary2, C_bary_ref))"
   ]
  }
 ],
 "metadata": {
  "kernelspec": {
   "display_name": "fgw",
   "language": "python",
   "name": "python3"
  },
  "language_info": {
   "codemirror_mode": {
    "name": "ipython",
    "version": 3
   },
   "file_extension": ".py",
   "mimetype": "text/x-python",
   "name": "python",
   "nbconvert_exporter": "python",
   "pygments_lexer": "ipython3",
   "version": "3.12.3"
  }
 },
 "nbformat": 4,
 "nbformat_minor": 2
}
